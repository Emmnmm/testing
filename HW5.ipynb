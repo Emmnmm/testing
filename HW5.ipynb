{
  "nbformat": 4,
  "nbformat_minor": 0,
  "metadata": {
    "colab": {
      "provenance": [],
      "authorship_tag": "ABX9TyOsOy1pie7jyLYQ4X7b81JR",
      "include_colab_link": true
    },
    "kernelspec": {
      "name": "python3",
      "display_name": "Python 3"
    },
    "language_info": {
      "name": "python"
    }
  },
  "cells": [
    {
      "cell_type": "markdown",
      "metadata": {
        "id": "view-in-github",
        "colab_type": "text"
      },
      "source": [
        "<a href=\"https://colab.research.google.com/github/Emmnmm/testing/blob/main/HW5.ipynb\" target=\"_parent\"><img src=\"https://colab.research.google.com/assets/colab-badge.svg\" alt=\"Open In Colab\"/></a>"
      ]
    },
    {
      "cell_type": "code",
      "execution_count": null,
      "metadata": {
        "id": "95LnE-ycytab"
      },
      "outputs": [],
      "source": []
    },
    {
      "cell_type": "markdown",
      "source": [
        "# Q1"
      ],
      "metadata": {
        "id": "pZXOxFqC0CzR"
      }
    },
    {
      "cell_type": "markdown",
      "source": [
        "Introductory\n",
        "\n",
        "\n",
        "*   [General Overview](https://www.pymc.io/projects/docs/en/stable/learn/core_notebooks/pymc_overview.html#pymc-overview)\n",
        "*   [Simple Linear Regression](https://www.pymc.io/projects/docs/en/stable/learn/core_notebooks/GLM_linear.html#glm-linear)\n",
        "*   [General API quickstart](https://www.pymc.io/projects/examples/en/latest/introductory/api_quickstart.html)\n",
        "\n",
        "\n",
        "\n",
        "\n",
        "\n"
      ],
      "metadata": {
        "id": "7I5h6wGW0FYX"
      }
    },
    {
      "cell_type": "markdown",
      "source": [
        "<table>\n",
        "  <tr>\n",
        "    <td><img src=\"https://www.pymc.io/projects/docs/en/stable/_images/ac30f30b2297ec4f2bb798b4f28d2cbba2d0502dbaae4a5f78fdd5cccacda517.svg\" width=\"250\"></td>\n",
        "    <td><img src=\"https://www.pymc.io/projects/docs/en/stable/_images/a8276d1222c43c061dbfff6fa3ff3af15b86038fd7d1e204c429ae3714ea1a20.png\" width=\"250\"></td>\n",
        "    <td><img src=\"https://www.pymc.io/projects/examples/en/latest/_images/434538d8660bf2399ebf9df11cbd2b7cec62d8abafc588da625315074b628118.png\" width=\"250\"></td>\n",
        "  </tr>\n",
        "</table>\n",
        "\n",
        "\n",
        "---\n",
        "\n"
      ],
      "metadata": {
        "id": "r518a-HU_B-K"
      }
    },
    {
      "cell_type": "markdown",
      "source": [
        "# Library Fundamentals\n",
        "\n",
        "\n",
        "*   [Distribution Dimensionality](https://www.pymc.io/projects/docs/en/stable/learn/core_notebooks/dimensionality.html#dimensionality)\n",
        "*   [PyMC and PyTensor](https://www.pymc.io/projects/docs/en/stable/learn/core_notebooks/pymc_pytensor.html#pymc-pytensor)\n",
        "*   [Using Data Containers](https://www.pymc.io/projects/examples/en/latest/fundamentals/data_container.html)\n",
        "\n",
        "\n"
      ],
      "metadata": {
        "id": "w4KUYjr2DJf6"
      }
    },
    {
      "cell_type": "markdown",
      "source": [
        "<table>\n",
        "  <tr>\n",
        "    <td><img src=\"https://www.pymc.io/projects/docs/en/stable/_images/73352774c2286019a31b211a29ee527bace6cc46ab421aa3e4c3f572a6658da5.svg\" width=\"250\"></td>\n",
        "    <td><img src=\"https://raw.githubusercontent.com/pymc-devs/pytensor/main/doc/tutorial/apply.png\" width=\"250\"></td>\n",
        "    <td><img src=\"https://www.pymc.io/projects/examples/en/latest/_images/90f5f05f83d677cb540fc16bcf5962b15949b9cf531848fe6b20c02a7e271e24.svg\" width=\"250\"></td>\n",
        "  </tr>\n",
        "</table>\n"
      ],
      "metadata": {
        "id": "MKsGsJBUDts5"
      }
    }
  ]
}