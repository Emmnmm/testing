{
  "nbformat": 4,
  "nbformat_minor": 0,
  "metadata": {
    "colab": {
      "provenance": [],
      "authorship_tag": "ABX9TyMJaqHkFGzhT3URsNo7Dwji",
      "include_colab_link": true
    },
    "kernelspec": {
      "name": "python3",
      "display_name": "Python 3"
    },
    "language_info": {
      "name": "python"
    }
  },
  "cells": [
    {
      "cell_type": "markdown",
      "metadata": {
        "id": "view-in-github",
        "colab_type": "text"
      },
      "source": [
        "<a href=\"https://colab.research.google.com/github/Emmnmm/testing/blob/main/HW5.ipynb\" target=\"_parent\"><img src=\"https://colab.research.google.com/assets/colab-badge.svg\" alt=\"Open In Colab\"/></a>"
      ]
    },
    {
      "cell_type": "markdown",
      "source": [
        "# Q1"
      ],
      "metadata": {
        "id": "pZXOxFqC0CzR"
      }
    },
    {
      "cell_type": "markdown",
      "source": [
        "Introductory\n",
        "\n",
        "\n",
        "*   [General Overview](https://www.pymc.io/projects/docs/en/stable/learn/core_notebooks/pymc_overview.html#pymc-overview)\n",
        "*   [Simple Linear Regression](https://www.pymc.io/projects/docs/en/stable/learn/core_notebooks/GLM_linear.html#glm-linear)\n",
        "*   [General API quickstart](https://www.pymc.io/projects/examples/en/latest/introductory/api_quickstart.html)\n",
        "\n",
        "\n",
        "\n",
        "\n",
        "\n"
      ],
      "metadata": {
        "id": "7I5h6wGW0FYX"
      }
    },
    {
      "cell_type": "markdown",
      "source": [
        "<table>\n",
        "  <tr>\n",
        "    <td><img src=\"https://www.pymc.io/projects/docs/en/stable/_images/ac30f30b2297ec4f2bb798b4f28d2cbba2d0502dbaae4a5f78fdd5cccacda517.svg\" width=\"250\"></td>\n",
        "    <td><img src=\"https://www.pymc.io/projects/docs/en/stable/_images/a8276d1222c43c061dbfff6fa3ff3af15b86038fd7d1e204c429ae3714ea1a20.png\" width=\"250\"></td>\n",
        "    <td><img src=\"https://www.pymc.io/projects/examples/en/latest/_images/434538d8660bf2399ebf9df11cbd2b7cec62d8abafc588da625315074b628118.png\" width=\"250\"></td>\n",
        "  </tr>\n",
        "</table>\n",
        "\n",
        "\n",
        "---\n",
        "\n"
      ],
      "metadata": {
        "id": "r518a-HU_B-K"
      }
    },
    {
      "cell_type": "markdown",
      "source": [
        "# Library Fundamentals\n",
        "\n",
        "\n",
        "*   [Distribution Dimensionality](https://www.pymc.io/projects/docs/en/stable/learn/core_notebooks/dimensionality.html#dimensionality)\n",
        "*   [PyMC and PyTensor](https://www.pymc.io/projects/docs/en/stable/learn/core_notebooks/pymc_pytensor.html#pymc-pytensor)\n",
        "*   [Using Data Containers](https://www.pymc.io/projects/examples/en/latest/fundamentals/data_container.html)\n",
        "\n",
        "\n"
      ],
      "metadata": {
        "id": "w4KUYjr2DJf6"
      }
    },
    {
      "cell_type": "markdown",
      "source": [
        "<table>\n",
        "  <tr>\n",
        "    <td><img src=\"https://www.pymc.io/projects/docs/en/stable/_images/73352774c2286019a31b211a29ee527bace6cc46ab421aa3e4c3f572a6658da5.svg\" width=\"250\"></td>\n",
        "    <td><img src=\"https://raw.githubusercontent.com/pymc-devs/pytensor/main/doc/tutorial/apply.png\" width=\"250\"></td>\n",
        "    <td><img src=\"https://www.pymc.io/projects/examples/en/latest/_images/90f5f05f83d677cb540fc16bcf5962b15949b9cf531848fe6b20c02a7e271e24.svg\" width=\"250\"></td>\n",
        "  </tr>\n",
        "</table>\n"
      ],
      "metadata": {
        "id": "MKsGsJBUDts5"
      }
    },
    {
      "cell_type": "markdown",
      "source": [
        "# How to\n",
        "\n",
        "\n",
        "*   [Prior and Posterior Predictive Checks](https://www.pymc.io/projects/docs/en/stable/learn/core_notebooks/posterior_predictive.html#posterior-predictive)\n",
        "*   [Model comparison](https://www.pymc.io/projects/docs/en/stable/learn/core_notebooks/model_comparison.html#model-comparison)\n",
        "*   [Updating Priors](https://www.pymc.io/projects/examples/en/latest/howto/updating_priors.html)\n",
        "*   [Automatic marginalization of discrete variables](https://www.pymc.io/projects/examples/en/latest/howto/marginalizing-models.html)\n",
        "*   [How to debug a model](https://www.pymc.io/projects/examples/en/latest/howto/howto_debugging.html)\n",
        "*   [How to wrap a JAX function for use in PyMC](https://www.pymc.io/projects/examples/en/latest/howto/wrapping_jax_function.html)\n",
        "*   [Splines](https://www.pymc.io/projects/examples/en/latest/howto/spline.html)\n",
        "*   [Bayesian copula estimation: Describing correlated joint distributions](https://www.pymc.io/projects/examples/en/latest/howto/copula-estimation.html)\n",
        "*   [Using ModelBuilder class for deploying PyMC models](https://www.pymc.io/projects/examples/en/latest/howto/model_builder.html)\n",
        "*   [Using a “black box” likelihood function](https://www.pymc.io/projects/examples/en/latest/howto/blackbox_external_likelihood_numpy.html)\n",
        "*   [LKJ Cholesky Covariance Priors for Multivariate Normal Models](https://www.pymc.io/projects/examples/en/latest/howto/LKJ.html)\n",
        "*   [Bayesian Missing Data Imputation](https://www.pymc.io/projects/examples/en/latest/howto/Missing_Data_Imputation.html)\n",
        "*   [Profiling](https://www.pymc.io/projects/examples/en/latest/howto/profiling.html)\n",
        "\n",
        "\n",
        "\n",
        "\n",
        "\n",
        "\n",
        "\n"
      ],
      "metadata": {
        "id": "QIU1tjF5E0gL"
      }
    },
    {
      "cell_type": "markdown",
      "source": [
        "<table>\n",
        "  <tr>\n",
        "    <td><img src=\"https://www.pymc.io/projects/docs/en/stable/_images/fe93e1963079f236f472726d7e5a22241866b629391de65d433f6f3512ca6f01.png\" width=\"200\"></td>\n",
        "    <td><img src=\"https://www.pymc.io/projects/docs/en/stable/_images/270be4d73a90733f93abe34f7f15e76428600d61b57df128acb78d2096a7c058.png\" width=\"200\"></td>\n",
        "    <td><img src=\"https://www.pymc.io/projects/examples/en/latest/_images/5c91b2b45e4e07be744bd90c92793f4b064b85ea9e147b0eaf3b463e1735f34a.png\" width=\"200\"></td>\n",
        "    <td><img src=\"https://www.pymc.io/projects/examples/en/latest/_images/0c978eb783f497ca7486982f9328492c60fc79c2a374860311fb5ad040d9548c.png\" width=\"200\"></td>\n",
        "  </tr>\n",
        "  <tr>\n",
        "    <td><img src=\"https://www.pymc.io/projects/examples/en/latest/_images/cd8d49dd3519e25c0ec2d3ef30a0816fe9c3f7708d9eda15d157590da6ca27b5.svg\" width=\"200\"></td>\n",
        "    <td><img src=\"https://www.pymc.io/projects/examples/en/latest/_images/8db92b756eea453adc43232c1804b652adbb0c0cbad541338644a85ebdce8449.svg\" width=\"200\"></td>\n",
        "    <td><img src=\"https://www.pymc.io/projects/examples/en/latest/_images/2df4d96e3e01145c824fe7651739c54092673779294c4438a6b86c88b911df6d.png\" width=\"200\"></td>\n",
        "    <td><img src=\"https://www.pymc.io/projects/examples/en/latest/_images/copula_schematic.png\" width=\"200\"></td>\n",
        "  </tr>\n",
        "  <tr>\n",
        "    <td><img src=\"https://www.pymc.io/projects/examples/en/latest/_images/bbc4da85106ec9c236813f170272c9b249e0a8af0911c428cddbf54bb0752c74.png\" width=\"200\"></td>\n",
        "    <td><img src=\"https://www.pymc.io/projects/examples/en/latest/_images/fdd28a1916ae67d48dfdba79887820769019342b1dd6cadb5db34711fe6c4bd9.png\" width=\"200\"></td>\n",
        "    <td><img src=\"https://www.pymc.io/projects/examples/en/latest/_images/0f00b23290a12d0321899f684b6108ccac834c6a555112ed39cf7beb7ba88ffa.png\" width=\"200\"></td>\n",
        "    <td><img src=\"https://www.pymc.io/projects/examples/en/latest/_images/4651aee3b14cc8fcb4f416403736e3ecb5f7f8ce1171367a38f6c44a02888f86.png\" width=\"200\"></td>\n",
        "  </tr>\n",
        "</table>\n"
      ],
      "metadata": {
        "id": "NojpNeiCHIT9"
      }
    },
    {
      "cell_type": "markdown",
      "source": [
        "# Generalized Linear Models\n",
        "\n",
        "*   [GLM: Robust Linear Regression](https://https://www.pymc.io/projects/examples/en/latest/generalized_linear_models/GLM-robust.html)\n",
        "*   [GLM-ordinal-features](https://www.pymc.io/projects/examples/en/latest/generalized_linear_models/GLM-ordinal-features.html)\n",
        "*   [Out-Of-Sample Predictions](https://www.pymc.io/projects/examples/en/latest/generalized_linear_models/GLM-out-of-sample-predictions.html)\n",
        "*   [Bayesian regression with truncated or censored data](https://www.pymc.io/projects/examples/en/latest/generalized_linear_models/GLM-truncated-censored-regression.html)\n",
        "*   [Binomial regression](https://www.pymc.io/projects/examples/en/latest/generalized_linear_models/GLM-binomial-regression.html)\n",
        "*   [GLM: Negative Binomial Regression](https://www.pymc.io/projects/examples/en/latest/generalized_linear_models/GLM-negative-binomial-regression.html)\n",
        "*   [Hierarchical Binomial Model: Rat Tumor Example](https://www.pymc.io/projects/examples/en/latest/generalized_linear_models/GLM-hierarchical-binomial-model.html)\n",
        "*   [A Primer on Bayesian Methods for Multilevel Modeling](https://www.pymc.io/projects/examples/en/latest/generalized_linear_models/multilevel_modeling.html)\n",
        "*   [GLM-missing-values-in-covariates](https://www.pymc.io/projects/examples/en/latest/generalized_linear_models/GLM-missing-values-in-covariates.html)\n",
        "*   [Regression Models with Ordered Categorical Outcomes](https://www.pymc.io/projects/examples/en/latest/generalized_linear_models/GLM-ordinal-regression.html)\n",
        "*   [GLM: Poisson Regression](https://www.pymc.io/projects/examples/en/latest/generalized_linear_models/GLM-poisson-regression.html)\n",
        "*   [Discrete Choice and Random Utility Models](https://www.pymc.io/projects/examples/en/latest/generalized_linear_models/GLM-discrete-choice_models.html)\n",
        "*   [GLM: Model Selection](https://www.pymc.io/projects/examples/en/latest/generalized_linear_models/GLM-model-selection.html)\n",
        "*   [GLM: Robust Regression using Custom Likelihood for Outlier Classification](https://www.pymc.io/projects/examples/en/latest/generalized_linear_models/GLM-robust-with-outlier-detection.html)\n",
        "*   [Rolling Regression](https://www.pymc.io/projects/examples/en/latest/generalized_linear_models/GLM-rolling-regression.html)\n",
        "\n"
      ],
      "metadata": {
        "id": "3qvyna8EI1lU"
      }
    },
    {
      "cell_type": "markdown",
      "source": [
        "<table>\n",
        "  <tr>\n",
        "    <td><img src=\"https://www.pymc.io/projects/examples/en/latest/_images/2a78b97583ee869cae0dd0c05e5342683605d657e6baf4e1169a55644bddf662.png\" width=\"200\"></td>\n",
        "    <td><img src=\"https://www.pymc.io/projects/examples/en/latest/_images/0f445f9b032e3e7693732b2051d3340186c4db3eec9ea8a6d29b2b59b4512af7.png\" width=\"200\"></td>\n",
        "    <td><img src=\"https://www.pymc.io/projects/examples/en/latest/_images/9101d5c4224baf8903f6f99c6d77f2758e5a6069d59d7782cf76b95c573f1049.png\" width=\"200\"></td>\n",
        "    <td><img src=\"https://www.pymc.io/projects/examples/en/latest/_images/90d169c17e2ac8bfbcc9c4b30b5a18532618ed8e69da6e0fb53c65c4b8a70347.png\" width=\"200\"></td>\n",
        "  </tr>\n",
        "  <tr>\n",
        "    <td><img src=\"https://www.pymc.io/projects/examples/en/latest/_images/2af54aa3c6d0dcc893750608896f94dc41d623fee75756f05e3e97b629e9718a.png\" width=\"200\"></td>\n",
        "    <td><img src=\"https://www.pymc.io/projects/examples/en/latest/_images/15707fccc92da51bc592954d9b0db8e7507d02bb298a5060840b2681af815c9c.png\" width=\"200\"></td>\n",
        "    <td><img src=\"https://www.pymc.io/projects/examples/en/latest/_images/02876264b478027ad5229df6fd2030ad6b920fc7092a6c1802da60315485d3f5.png\" width=\"200\"></td>\n",
        "    <td><img src=\"https://www.pymc.io/projects/examples/en/latest/_images/58ec3d540c3f4b9763af4fd835e00c3feda4fd899763ce5dd9ea0a5c43979d3b.png\" width=\"200\"></td>\n",
        "  </tr>\n",
        "  <tr>\n",
        "    <td><img src=\"https://www.pymc.io/projects/examples/en/latest/_images/3c5076436fe9924ef58fd28195ad744e19500b08d9b4b335bcfcca4665367c1f.png\" width=\"200\"></td>\n",
        "    <td><img src=\"https://www.pymc.io/projects/examples/en/latest/_images/363ea3118d6c6280ed43a2acbfd698138f5b4f2ce65ca75039f4a0e0064dfb19.png\" width=\"200\"></td>\n",
        "    <td><img src=\"https://www.pymc.io/projects/examples/en/latest/_images/ecad18f81b29b2c6538f64e1933c8cf5c42c93fa3c979e06f6e70dca79b34f4f.png\" width=\"200\"></td>\n",
        "    <td><img src=\"https://www.pymc.io/projects/examples/en/latest/_images/91590d7fea8e85426dab529a4eee0bd78d85e6070b632f297cb1d371295b92f0.png\" width=\"200\"></td>\n",
        "  </tr>\n",
        "  <tr>\n",
        "    <td><img src=\"https://www.pymc.io/projects/examples/en/latest/_images/2abb4b985087a1a8d5f8dfa5b485b34f0134adcceb8cccb3fc9dc0f31ada9047.png\" width=\"200\"></td>\n",
        "    <td><img src=\"https://www.pymc.io/projects/examples/en/latest/_images/05af11d7b4397830355434801ea902b61f4eded5788fc6e8b5263f63c69b9845.png\" width=\"200\"></td>\n",
        "    <td><img src=\"https://www.pymc.io/projects/examples/en/latest/_images/0805ba0651a73e698974d6549408ed4a641c0ebff920d670f142fd31d6590678.png\" width=\"200\"></td>\n",
        "    <td></td> <!-- Empty cell for alignment -->\n",
        "  </tr>\n",
        "</table>\n"
      ],
      "metadata": {
        "id": "q4f1oIB1JOZB"
      }
    },
    {
      "cell_type": "markdown",
      "source": [
        "# Case Studies\n",
        "\n",
        "\n",
        "*   [Confirmatory Factor Analysis and Structural Equation Models in Psychometrics](https://www.pymc.io/projects/examples/en/latest/case_studies/CFA_SEM.html)\n",
        "*   [Hierarchical Partial Pooling](https://www.pymc.io/projects/examples/en/latest/case_studies/hierarchical_partial_pooling.html)\n",
        "*   [NBA Foul Analysis with Item Response Theory](https://www.pymc.io/projects/examples/en/latest/case_studies/item_response_nba.html)\n",
        "*   [Bayesian Estimation Supersedes the T-Test](https://www.pymc.io/projects/examples/en/latest/case_studies/BEST.html)\n",
        "*   [A Hierarchical model for Rugby prediction](https://www.pymc.io/projects/examples/en/latest/case_studies/rugby_analytics.html)\n",
        "*   [Estimating parameters of a distribution from awkwardly binned data](https://www.pymc.io/projects/examples/en/latest/case_studies/binning.html)\n",
        "*   [Factor analysis](https://www.pymc.io/projects/examples/en/latest/case_studies/factor_analysis.html)\n",
        "*   [Probabilistic Matrix Factorization for Making Personalized Recommendations](https://www.pymc.io/projects/examples/en/latest/case_studies/probabilistic_matrix_factorization.html)\n",
        "*   [Reliability Statistics and Predictive Calibration](https://www.pymc.io/projects/examples/en/latest/case_studies/reliability_and_calibrated_prediction.html)\n",
        "*   [Generalized Extreme Value Distribution](https://www.pymc.io/projects/examples/en/latest/case_studies/GEV.html)\n",
        "*   [Model building and expansion for golf putting](https://www.pymc.io/projects/examples/en/latest/case_studies/putting_workflow.html)\n",
        "*   [Fitting a Reinforcement Learning Model to Behavioral Data with PyMC](https://www.pymc.io/projects/examples/en/latest/case_studies/reinforcement_learning.html)\n",
        "\n"
      ],
      "metadata": {
        "id": "b7KUmrsoMe4E"
      }
    },
    {
      "cell_type": "markdown",
      "source": [
        "<table>\n",
        "  <tr>\n",
        "    <td><img src=\"https://www.pymc.io/projects/examples/en/latest/_images/db0ad3e27df5db905e86df53ed194c146901e3b038ea44237681fc0471c9d1a2.png\" width=\"200\"></td>\n",
        "    <td><img src=\"https://www.pymc.io/projects/examples/en/latest/_images/c723373ea236a4a93a129dff0c5864c0ceaa03f661ca396f00f58b9a81ee30da.png\" width=\"200\"></td>\n",
        "    <td><img src=\"https://www.pymc.io/projects/examples/en/latest/_images/43a0b14b9f84c62980a32a7eb0b8909d5d78a61305aead0f5bc82109ddb9418b.png\" width=\"200\"></td>\n",
        "    <td><img src=\"https://www.pymc.io/projects/examples/en/latest/_images/073035d65700ed87439b543ebee2d98e340346030646fed769fb9ec5d135f21f.png\" width=\"200\"></td>\n",
        "  </tr>\n",
        "  <tr>\n",
        "    <td><img src=\"https://www.pymc.io/projects/examples/en/latest/_images/2167797281ecffd3c33297dc946f0965ce96a22641a54d06cff2cc15a46abc29.png\" width=\"200\"></td>\n",
        "    <td><img src=\"https://www.pymc.io/projects/examples/en/latest/_images/c7a473d1546507b951c3d14be866c4c8f1bb512f463f9aeb1de1033898cbdc8b.png\" width=\"200\"></td>\n",
        "    <td><img src=\"https://www.pymc.io/projects/examples/en/latest/_images/56928143e3c309246c9ce7989955b11b69f0bc0891658aa8556a97328076a6c9.png\" width=\"200\"></td>\n",
        "    <td><img src=\"https://www.pymc.io/projects/examples/en/latest/_images/2a3f02d521f5f6a8d895f7e14d46885d5fe5ef26709d695dc230a05c9e5378fa.png\" width=\"200\"></td>\n",
        "  </tr>\n",
        "  <tr>\n",
        "    <td><img src=\"https://www.pymc.io/projects/examples/en/latest/_images/ab32293eceda7603411cd5544e1cd9814373ac410566edb06ce4d11d2c3c8089.png\" width=\"200\"></td>\n",
        "    <td><img src=\"https://www.pymc.io/projects/examples/en/latest/_images/2d9db3bdead58e8e7a75ad52ae71fd9fa637a42f4e666573ec730b496a828f3b.png\" width=\"200\"></td>\n",
        "    <td><img src=\"https://www.pymc.io/projects/examples/en/latest/_images/a72feff2cfdae8f3edada597bd5b5cacbc41af589de4e02baf98355774c964b1.png\" width=\"200\"></td>\n",
        "    <td><img src=\"https://www.pymc.io/projects/examples/en/latest/_images/1f0bd0030cbd99046a0e1230bd21c1ba8ca2879ef1c369c4fe96a72a1ea1cbcc.png\" width=\"200\"></td>\n",
        "  </tr>\n",
        "</table>\n"
      ],
      "metadata": {
        "id": "AnTSlZ3LM0Xp"
      }
    },
    {
      "cell_type": "markdown",
      "source": [
        "# Causal Inference\n",
        "\n",
        "\n",
        "*   [Simpson’s paradox](https://www.pymc.io/projects/examples/en/latest/causal_inference/GLM-simpsons-paradox.html)\n",
        "*   [Interrupted time series analysis](https://www.pymc.io/projects/examples/en/latest/causal_inference/interrupted_time_series.html)\n",
        "*   [Regression discontinuity design analysis](https://www.pymc.io/projects/examples/en/latest/causal_inference/regression_discontinuity.html)\n",
        "*   [Interventional distributions and graph mutation with the do-operator](https://www.pymc.io/projects/examples/en/latest/causal_inference/interventional_distribution.html)\n",
        "*   [Bayesian Non-parametric Causal Inference](https://www.pymc.io/projects/examples/en/latest/causal_inference/bayesian_nonparametric_causal.html)\n",
        "*   [Bayesian mediation analysis](https://www.pymc.io/projects/examples/en/latest/causal_inference/mediation_analysis.html)\n",
        "*   [Counterfactual inference: calculating excess deaths due to COVID-19](https://www.pymc.io/projects/examples/en/latest/causal_inference/excess_deaths.html)\n",
        "*   [Introduction to Bayesian A/B Testing](https://www.pymc.io/projects/examples/en/latest/causal_inference/bayesian_ab_testing_introduction.html)\n",
        "*   [Difference in differences](https://www.pymc.io/projects/examples/en/latest/causal_inference/difference_in_differences.html)\n",
        "*   [Bayesian moderation analysis](https://www.pymc.io/projects/examples/en/latest/causal_inference/moderation_analysis.html)\n",
        "\n"
      ],
      "metadata": {
        "id": "fWnTL_YiPMZ2"
      }
    },
    {
      "cell_type": "markdown",
      "source": [
        "<table>\n",
        "  <tr>\n",
        "    <td><img src=\"https://www.pymc.io/projects/examples/en/latest/_images/32dc7f9fe8dc6e74a4c09705a1dbe7bfe3e017ee619cebdbb6d5e51d4269633d.png\" width=\"200\"></td>\n",
        "    <td><img src=\"https://www.pymc.io/projects/examples/en/latest/_images/49d3e0b1e33ef95f1905ed0e648bc790fadb21183cf29156f75e742ff162e1b2.png\" width=\"200\"></td>\n",
        "    <td><img src=\"https://www.pymc.io/projects/examples/en/latest/_images/0615b106487e7d8fc900fda79bc7046210a227de9997b6289ce324fa8a95c078.png\" width=\"200\"></td>\n",
        "    <td><img src=\"https://www.pymc.io/projects/examples/en/latest/_images/b8c71a7245ccc4ef95c7ab4fb383cdef8f4d0204ea79d6a38f8ec9e144ef010d.png\" width=\"200\"></td>\n",
        "  </tr>\n",
        "  <tr>\n",
        "    <td><img src=\"https://www.pymc.io/projects/examples/en/latest/_images/12241afe6b71f4b1570d23463fc292b287df6e113c593b938aaa449108a8dec0.png\" width=\"200\"></td>\n",
        "    <td><img src=\"https://www.pymc.io/projects/examples/en/latest/_images/8412f00588078d7ece107c6d7f1a7962d2e6bf1a0f8d0308d5afbeac9a008ef0.png\" width=\"200\"></td>\n",
        "    <td><img src=\"https://www.pymc.io/projects/examples/en/latest/_images/ec0282a7c95673c030df85c0ddeaee1aba06be827ce21cefecd388d7e2e9e306.png\" width=\"200\"></td>\n",
        "    <td><img src=\"https://www.pymc.io/projects/examples/en/latest/_images/05b1553c08b71229f5a0dbd8faf3041e01ccd3467e0c74d2745edeb447014f11.png\" width=\"200\"></td>\n",
        "  </tr>\n",
        "  <tr>\n",
        "    <td><img src=\"https://www.pymc.io/projects/examples/en/latest/_images/f73f8c06a0acda00bb74905c6054e1b9f5b99b181a97fde2803d29f810f6fc16.png\" width=\"200\"></td>\n",
        "    <td><img src=\"https://www.pymc.io/projects/examples/en/latest/_images/a26b7b61e4d185410d5e6f0af1da9270397eab627b9040395d4a7fffa8e8b2cd.png\" width=\"200\"></td>\n",
        "    <td></td> <!-- Empty cell for alignment -->\n",
        "    <td></td> <!-- Empty cell for alignment -->\n",
        "  </tr>\n",
        "</table>\n"
      ],
      "metadata": {
        "id": "09jRlLQwQRFb"
      }
    },
    {
      "cell_type": "markdown",
      "source": [
        "# Gaussian Processes\n",
        "\n",
        "\n",
        "*   [Mean and Covariance Functions](https://www.pymc.io/projects/examples/en/latest/gaussian_processes/GP-MeansAndCovs.html)\n",
        "*   [Student-t Process](https://www.pymc.io/projects/examples/en/latest/gaussian_processes/GP-TProcess.html)\n",
        "*   [Heteroskedastic Gaussian Processes](https://www.pymc.io/projects/examples/en/latest/gaussian_processes/GP-Heteroskedastic.html)\n",
        "*   [Gaussian Processes: Latent Variable Implementation](https://www.pymc.io/projects/examples/en/latest/gaussian_processes/GP-Latent.html)\n",
        "*   [Sparse Approximations](https://www.pymc.io/projects/examples/en/latest/gaussian_processes/GP-SparseApprox.html)\n",
        "*   [Gaussian Processes using numpy kernel](https://www.pymc.io/projects/examples/en/latest/gaussian_processes/gaussian_process.html)\n",
        "*   [Kronecker Structured Covariances](https://www.pymc.io/projects/examples/en/latest/gaussian_processes/GP-Kron.html)\n",
        "*   [Example: Mauna Loa CO2 continued](https://www.pymc.io/projects/examples/en/latest/gaussian_processes/GP-MaunaLoa2.html)\n",
        "*   [Gaussian Process for CO2 at Mauna Loa](https://www.pymc.io/projects/examples/en/latest/gaussian_processes/GP-MaunaLoa.html)\n",
        "*   [Gaussian Processes: HSGP Reference & First Steps](https://www.pymc.io/projects/examples/en/latest/gaussian_processes/HSGP-Basic.html)\n",
        "*   [Baby Births Modelling with HSGPs](https://www.pymc.io/projects/examples/en/latest/gaussian_processes/GP-Births.html)\n",
        "*   [Marginal Likelihood Implementation](https://www.pymc.io/projects/examples/en/latest/gaussian_processes/GP-Marginal.html)\n",
        "*   [Multi-output Gaussian Processes: Coregionalization models using Hamadard product](https://www.pymc.io/projects/examples/en/latest/gaussian_processes/MOGP-Coregion-Hadamard.html)\n",
        "*   [GP-Circular](https://www.pymc.io/projects/examples/en/latest/gaussian_processes/GP-Circular.html)\n",
        "*   [Modeling spatial point patterns with a marked log-Gaussian Cox process\n",
        "](https://www.pymc.io/projects/examples/en/latest/gaussian_processes/log-gaussian-cox-process.html)\n",
        "*   [Gaussian Processes: HSGP Advanced Usage](https://www.pymc.io/projects/examples/en/latest/gaussian_processes/HSGP-Advanced.html)\n",
        "*   [Gaussian Process (GP) smoothing](https://www.pymc.io/projects/examples/en/latest/gaussian_processes/GP-smoothing.html)\n",
        "\n",
        "\n"
      ],
      "metadata": {
        "id": "5uVJ_4Y_R2mQ"
      }
    },
    {
      "cell_type": "markdown",
      "source": [
        "<table>\n",
        "  <tr>\n",
        "    <td><img src=\"https://www.pymc.io/projects/examples/en/latest/_images/500414d8ae4ba779eda2be5fe1788a15b72a13b3f8d284a2e1cd93726b5c8a79.png\" width=\"200\"></td>\n",
        "    <td><img src=\"https://www.pymc.io/projects/examples/en/latest/_images/57d741d76e465f6e040f4201cf0118584e0b73b70924686ddb3da0fc338acb65.png\" width=\"200\"></td>\n",
        "    <td><img src=\"https://www.pymc.io/projects/examples/en/latest/_images/85f7ac83292515137c09c3e7fab61fb69310fe92706da9fa1e9f8da4c5711664.png\" width=\"200\"></td>\n",
        "    <td><img src=\"https://www.pymc.io/projects/examples/en/latest/_images/305cdab4029ea1434048260e09672443a4eb773e58aa0204e8c10e9b467cd6ce.png\" width=\"200\"></td>\n",
        "  </tr>\n",
        "  <tr>\n",
        "    <td><img src=\"https://www.pymc.io/projects/examples/en/latest/_images/44ee9b965f3f214734360bd7c142334d7a48f4687d197c895a98099269289b02.png\" width=\"200\"></td>\n",
        "    <td><img src=\"https://www.pymc.io/projects/examples/en/latest/_images/361ee9934448fe06716f684cf3d66e5c95fbba7de10095787217f50420e75092.png\" width=\"200\"></td>\n",
        "    <td><img src=\"https://www.pymc.io/projects/examples/en/latest/_images/a88e5b21588fbd088a298c58b7709656197390fa9e8f6ea96c3d07de5c3dc2e6.png\" width=\"200\"></td>\n",
        "    <td><img src=\"https://www.pymc.io/projects/examples/en/latest/_images/8be02a561e18e4762c77a9bcec7682279865c7c1243afdd8b1c5b7546d323bcd.png\" width=\"200\"></td>\n",
        "  </tr>\n",
        "  <tr>\n",
        "    <td><img src=\"https://www.pymc.io/projects/examples/en/latest/_images/86132000c64412face7349d5a10fbfd81cc15587b64e3bf8eaa5117f7112ddbc.png\" width=\"200\"></td>\n",
        "    <td><img src=\"https://www.pymc.io/projects/examples/en/latest/_images/8cb533f02d6d854dcc7f382af388e893877fc53a42547f4f59c52b4d8b767151.png\" width=\"200\"></td>\n",
        "    <td><img src=\"https://www.pymc.io/projects/examples/en/latest/_images/d3330db4a453e459d7141bbd2bbb73c35ad884c3a43d0f1aea92f61623917071.png\" width=\"200\"></td>\n",
        "    <td><img src=\"https://www.pymc.io/projects/examples/en/latest/_images/7dbefc2687f5e244bd217c4885873800e822865cc15bbd0cbb9796f93fcf4f00.svg\" width=\"200\"></td>\n",
        "  </tr>\n",
        "  <tr>\n",
        "    <td><img src=\"https://www.pymc.io/projects/examples/en/latest/_images/b85877827819aef038e57510082452001184f305587d8a4e019711cdd10c1373.png\" width=\"200\"></td>\n",
        "    <td><img src=\"https://www.pymc.io/projects/examples/en/latest/_images/db0d8dbca6c81a2e63604cec58ece4fc55412132a041231f58569c6ded2be0c5.png\" width=\"200\"></td>\n",
        "    <td><img src=\"https://www.pymc.io/projects/examples/en/latest/_images/23caeed7626c7739ce78580034bb358083fbe9b0edd30977166cafce36da55ce.png\" width=\"200\"></td>\n",
        "    <td><img src=\"https://www.pymc.io/projects/examples/en/latest/_images/71744c45bcd7ccfa614abfc906318782c83d5a351633948f37d34e98a24c8584.png\" width=\"200\"></td>\n",
        "  </tr>\n",
        "</table>\n"
      ],
      "metadata": {
        "id": "Z78k-54ESLxk"
      }
    },
    {
      "cell_type": "markdown",
      "source": [
        "# Time Series\n",
        "\n",
        "*   [Longitudinal Models of Change](https://www.pymc.io/projects/examples/en/latest/time_series/longitudinal_models.html)\n",
        "*   [Forecasting with Structural AR Timeseries](https://www.pymc.io/projects/examples/en/latest/time_series/Forecasting_with_structural_timeseries.html)\n",
        "*   [Analysis of An AR(1)Model in PyMC](https://www.pymc.io/projects/examples/en/latest/time_series/AR.html)\n",
        "*   [Stochastic Volatility model](https://www.pymc.io/projects/examples/en/latest/time_series/stochastic_volatility.html)\n",
        "*   [Time Series Models Derived From a Generative Graph](https://www.pymc.io/projects/examples/en/latest/time_series/Time_Series_Generative_Graph.html)\n",
        "*   [Bayesian Vector Autoregressive Models](https://www.pymc.io/projects/examples/en/latest/time_series/bayesian_var_model.html)\n",
        "*   [Air passengers - Prophet-like model](https://www.pymc.io/projects/examples/en/latest/time_series/Air_passengers-Prophet_with_Bayesian_workflow.html)\n",
        "*   [Multivariate Gaussian Random Walk](https://www.pymc.io/projects/examples/en/latest/time_series/MvGaussianRandomWalk_demo.html)\n",
        "*   [Inferring parameters of SDEs using a Euler-Maruyama scheme](https://www.pymc.io/projects/examples/en/latest/time_series/Euler-Maruyama_and_SDEs.html)\n",
        "\n",
        "\n",
        "<table>\n",
        "  <tr>\n",
        "    <td><img src=\"https://www.pymc.io/projects/examples/en/latest/_images/43af8ba9f15d36a19263d73958a2e5c6cf3b89c032e2ae87430ea3e27c81578b.png\" width=\"200\"></td>\n",
        "    <td><img src=\"https://www.pymc.io/projects/examples/en/latest/_images/285e345411293af1986d5240b1c81a77d7681751d8dda5c72f03705d6f760f51.png\" width=\"200\"></td>\n",
        "    <td><img src=\"https://www.pymc.io/projects/examples/en/latest/_images/b28650d1ac573d2e837360f4b32bca44ffc6587e19ebd94a00fecd9c8f24b6bb.png\" width=\"200\"></td>\n",
        "    <td><img src=\"https://www.pymc.io/projects/examples/en/latest/_images/aeebe9a8f6940b18037893475f734ba281c80d30ac54248fa63914f9fc3afda0.png\" width=\"200\"></td>\n",
        "  </tr>\n",
        "  <tr>\n",
        "    <td><img src=\"https://www.pymc.io/projects/examples/en/latest/_images/805224bd76d26d6a4864fe25e2c1dd0f34325d9d9bf4a6d88b1135c5e11d3e78.png\" width=\"200\"></td>\n",
        "    <td><img src=\"https://www.pymc.io/projects/examples/en/latest/_images/4e2642a8e46e880c72e474b3db11d9728e98dc58908f61da9d28e92bee721052.png\" width=\"200\"></td>\n",
        "    <td><img src=\"https://www.pymc.io/projects/examples/en/latest/_images/8297658948d7e3289f959ffe989ce27e1b8059ee8a27b4c535723984686f15ff.png\" width=\"200\"></td>\n",
        "    <td><img src=\"https://www.pymc.io/projects/examples/en/latest/_images/1fe0f0601cc11fccf9b2daf43082d9b6db27049d2e23efcaf941159f4e4bc902.png\" width=\"200\"></td>\n",
        "  </tr>\n",
        "  <tr>\n",
        "    <td><img src=\"https://www.pymc.io/projects/examples/en/latest/_images/c3ab276d76f68bb69a60d7c6fdb857d53f8146040f2d399bfeb2e813da35270b.png\" width=\"200\"></td>\n",
        "    <td></td> <!-- Empty cell for alignment -->\n",
        "    <td></td> <!-- Empty cell for alignment -->\n",
        "    <td></td> <!-- Empty cell for alignment -->\n",
        "  </tr>\n",
        "</table>\n",
        "\n",
        "\n",
        "\n",
        "\n",
        "\n",
        "\n",
        "\n",
        "\n",
        "\n",
        "\n",
        "\n"
      ],
      "metadata": {
        "id": "tNTJBXREWiRq"
      }
    },
    {
      "cell_type": "markdown",
      "source": [
        "# Spatial Analysis\n",
        "\n",
        "*   [The Besag-York-Mollie Model for Spatial Data](https://www.pymc.io/projects/examples/en/latest/spatial/nyc_bym.html)\n",
        "*   [The prevalence of malaria in the Gambia](https://www.pymc.io/projects/examples/en/latest/spatial/malaria_prevalence.html)\n",
        "*   [Conditional Autoregressive (CAR) Models for Spatial Data](https://www.pymc.io/projects/examples/en/latest/spatial/conditional_autoregressive_priors.html)\n",
        "\n",
        "<table>\n",
        "  <tr>\n",
        "    <td><img src=\"https://www.pymc.io/projects/examples/en/latest/_images/e358b2dae33b327a31a314b6d384dc026c26c2982474034ecb7082b7c27ab667.png\" width=\"200\"></td>\n",
        "    <td><img src=\"https://www.pymc.io/projects/examples/en/latest/_images/3e2021a0d3138688f6e1c6e69b99867c6bcecaa5390ed500b9bf3530e08c7f09.png\" width=\"200\"></td>\n",
        "    <td><img src=\"https://www.pymc.io/projects/examples/en/latest/_images/d5d7337537cf1f348d7daba92ec48192a618bae6c4cf9aa76b065df41cbfd986.png\" width=\"200\"></td>\n",
        "  </tr>\n",
        "</table>\n",
        "\n"
      ],
      "metadata": {
        "id": "6oPgardYYpF1"
      }
    },
    {
      "cell_type": "markdown",
      "source": [
        "# Diagnostics and Model Criticism\n",
        "\n",
        "*   [Bayes Factors and Marginal Likelihood](https://www.pymc.io/projects/examples/en/latest/diagnostics_and_criticism/Bayes_factor.html)\n",
        "*   [Diagnosing Biased Inference with Divergences](https://www.pymc.io/projects/examples/en/latest/diagnostics_and_criticism/Diagnosing_biased_Inference_with_Divergences.html)\n",
        "*   [Sampler Statistics](https://www.pymc.io/projects/examples/en/latest/diagnostics_and_criticism/sampler-stats.html)\n",
        "*   [Model Averaging](https://www.pymc.io/projects/examples/en/latest/diagnostics_and_criticism/model_averaging.html)\n",
        "\n",
        "<table>\n",
        "  <tr>\n",
        "    <td><img src=\"https://www.pymc.io/projects/examples/en/latest/_images/28828ea3c7b446eb1d7026396feee37e36b3633b38b38aeeec92e05ca1d8243b.png\" width=\"200\"></td>\n",
        "    <td><img src=\"https://www.pymc.io/projects/examples/en/latest/_images/b4952c1b53171c8a99f0b2be3d6cef06dd93d16de225ff832143b58f1b2ffb40.png\" width=\"200\"></td>\n",
        "    <td><img src=\"https://www.pymc.io/projects/examples/en/latest/_images/a504e1bc44836e2d0f52990a78663d6905f9244b81eacd95d656211c3fc8910e.png\" width=\"200\"></td>\n",
        "    <td><img src=\"https://www.pymc.io/projects/examples/en/latest/_images/04dfc13dad24652049eae900d067708b33c326a1cc0a809d54446806b8c88fe5.png\" width=\"200\"></td>\n",
        "  </tr>\n",
        "</table>\n"
      ],
      "metadata": {
        "id": "pUCvLNZaZJFv"
      }
    },
    {
      "cell_type": "markdown",
      "source": [
        "# Bayesian Additive Regression Trees\n",
        "\n",
        "*   [Categorical regression](https://www.pymc.io/projects/examples/en/latest/bart/bart_categorical_hawks.html)\n",
        "*   [Bayesian Additive Regression Trees: Introduction](https://www.pymc.io/projects/examples/en/latest/bart/bart_introduction.html)\n",
        "*   [Modeling Heteroscedasticity with BART](https://www.pymc.io/projects/examples/en/latest/bart/bart_heteroscedasticity.html)\n",
        "*   [Quantile Regression with BART](https://www.pymc.io/projects/examples/en/latest/bart/bart_quantile_regression.html)\n",
        "\n",
        "<table>\n",
        "  <tr>\n",
        "    <td><img src=\"https://www.pymc.io/projects/examples/en/latest/_images/5aef36de4f892b86b3c20ec45bf0f3b04c6732fe7ae87bb3c358e72362e34e60.png\" width=\"200\"></td>\n",
        "    <td><img src=\"https://www.pymc.io/projects/examples/en/latest/_images/775b81cc935aac704876e8223e50d8c7dda74de63f43548c20bdedf90fd76272.png\" width=\"200\"></td>\n",
        "    <td><img src=\"https://www.pymc.io/projects/examples/en/latest/_images/c7af179be280454fac44e14ae0e2816e1c557090f0962095e05429437c886652.png\" width=\"200\"></td>\n",
        "    <td><img src=\"https://www.pymc.io/projects/examples/en/latest/_images/12cb97be279d4a47470186cfae554294221722f2196e78a5c29186781dceb08c.png\" width=\"200\"></td>\n",
        "  </tr>\n",
        "</table>\n",
        "\n"
      ],
      "metadata": {
        "id": "tx7Av1fOt_cb"
      }
    },
    {
      "cell_type": "markdown",
      "source": [
        "# Mixture Models\n",
        "\n",
        "*   [Gaussian Mixture Model](https://www.pymc.io/projects/examples/en/latest/mixture_models/gaussian_mixture_model.html)\n",
        "*   [Dependent density regression](https://www.pymc.io/projects/examples/en/latest/mixture_models/dependent_density_regression.html)\n",
        "*   [Dirichlet process mixtures for density estimation](https://www.pymc.io/projects/examples/en/latest/mixture_models/dp_mix.html)\n",
        "*   [Marginalized Gaussian Mixture Model](https://www.pymc.io/projects/examples/en/latest/mixture_models/marginalized_gaussian_mixture_model.html)\n",
        "*   [Dirichlet mixtures of multinomials](https://www.pymc.io/projects/examples/en/latest/mixture_models/dirichlet_mixture_of_multinomials.html)\n",
        "\n",
        "<table>\n",
        "  <tr>\n",
        "    <td><img src=\"https://www.pymc.io/projects/examples/en/latest/_images/be9b6ee2d6c50c4472ef2968ae6fab25860073371be2aa29ebade1adf9952628.png\" width=\"200\"></td>\n",
        "    <td><img src=\"https://www.pymc.io/projects/examples/en/latest/_images/65f959215ef28b7439a3c08b9c69137a4a3da5f5706083108a994d0d69f7cf22.png\" width=\"200\"></td>\n",
        "    <td><img src=\"https://www.pymc.io/projects/examples/en/latest/_images/60dde78afe4cf21368ef7354c15a9cd18976f9e47d430ce7eaa3f90fe5f6bfa0.png\" width=\"200\"></td>\n",
        "    <td><img src=\"https://www.pymc.io/projects/examples/en/latest/_images/0262971508f007212fa1dbaaf0a98eadbfecce02383a3133d7a89ed2bfcc0b72.png\" width=\"200\"></td>\n",
        "    <td><img src=\"https://www.pymc.io/projects/examples/en/latest/_images/6b6315d447e18b6a39f0f24deba8a847271570180c76af83e5ba6da8bc4eb6e6.png\" width=\"200\"></td>\n",
        "  </tr>\n",
        "</table>\n"
      ],
      "metadata": {
        "id": "bd-Xfu2cus0I"
      }
    },
    {
      "cell_type": "markdown",
      "source": [
        "# Survival Analysis\n",
        "\n",
        "*   [Reparameterizing the Weibull Accelerated Failure Time Model](https://www.pymc.io/projects/examples/en/latest/survival_analysis/weibull_aft.html)\n",
        "*   [Bayesian Survival Analysis](https://www.pymc.io/projects/examples/en/latest/survival_analysis/survival_analysis.html)\n",
        "*   [Censored Data Models](https://www.pymc.io/projects/examples/en/latest/survival_analysis/censored_data.html)\n",
        "*   [Frailty and Survival Regression Models](https://www.pymc.io/projects/examples/en/latest/survival_analysis/frailty_models.html)\n",
        "*   [Bayesian Parametric Survival Analysis](https://www.pymc.io/projects/examples/en/latest/survival_analysis/bayes_param_survival.html)\n",
        "\n",
        "<table>\n",
        "  <tr>\n",
        "    <td><img src=\"https://www.pymc.io/projects/examples/en/latest/_images/56c22e18df74d52bb75350fb86f6f9dc0bef577572b4dcf3936d1aa39a307afe.png\" width=\"200\"></td>\n",
        "    <td><img src=\"https://www.pymc.io/projects/examples/en/latest/_images/2c04c31345c03756d20a72ca9e07f6969a4dcbb74b22a86a198bc6b1b6b61dd6.png\" width=\"200\"></td>\n",
        "    <td><img src=\"https://www.pymc.io/projects/examples/en/latest/_images/5d33add778ae781898173c0065c76cd136bc93722573ac843c9f89db0a03f7c2.png\" width=\"200\"></td>\n",
        "    <td><img src=\"https://www.pymc.io/projects/examples/en/latest/_images/b51c052d59009e99b5b7671ac43de168d232375baef986b2206d77b0b6a3e13a.png\" width=\"200\"></td>\n",
        "    <td><img src=\"https://www.pymc.io/projects/examples/en/latest/_images/5ba010e4b0eb59d6a9c798094aa32aa4ea4622a8cffc30c32265a6e3cae3e649.png\" width=\"200\"></td>\n",
        "  </tr>\n",
        "</table>\n"
      ],
      "metadata": {
        "id": "CWmX73XvvsVm"
      }
    },
    {
      "cell_type": "markdown",
      "source": [
        "# ODE models\n",
        "\n",
        "*   [ODE Lotka-Volterra With Bayesian Inference in Multiple Ways](https://www.pymc.io/projects/examples/en/latest/ode_models/ODE_Lotka_Volterra_multiple_ways.html)\n",
        "*   [Lotka-Volterra with manual gradients](https://www.pymc.io/projects/examples/en/latest/ode_models/ODE_with_manual_gradients.html)\n",
        "*   [pymc3.ode: Shapes and benchmarking](https://www.pymc.io/projects/examples/en/latest/ode_models/ODE_API_shapes_and_benchmarking.html)\n",
        "*   [GSoC 2019: Introduction of pymc3.ode API](https://www.pymc.io/projects/examples/en/latest/ode_models/ODE_API_introduction.html)\n",
        "\n",
        "<table>\n",
        "  <tr>\n",
        "    <td><img src=\"https://www.pymc.io/projects/examples/en/latest/_images/10e123cc546e62bac6f56148812be478c46c88943adc5a31dd5e7b32aabaed04.png\" width=\"200\"></td>\n",
        "    <td><img src=\"https://www.pymc.io/projects/examples/en/latest/_images/d2ede31c5cbac92b92568b22e5539e3499201cb7eb05aa253c88f3995391b8fe.png\" width=\"200\"></td>\n",
        "    <td><img src=\"https://www.pymc.io/projects/examples/en/latest/_images/f1d6ce0b93a1398ab102c7f009b8bf3fc988f78b54f650ccdf4b841fa78b2ea9.png\" width=\"200\"></td>\n",
        "    <td><img src=\"https://www.pymc.io/projects/examples/en/latest/_images/139692fdce2b4efb3d2aa25909a38cf30a1e6451a3966507639b74933d5ef60c.png\" width=\"200\"></td>\n",
        "  </tr>\n",
        "</table>\n"
      ],
      "metadata": {
        "id": "AMV0WKf3wo3e"
      }
    },
    {
      "cell_type": "markdown",
      "source": [
        "# MCMC\n",
        "\n",
        "*   [Lasso regression with block updating](https://www.pymc.io/projects/examples/en/latest/samplers/lasso_block_update.html)\n",
        "*   [Approximate Bayesian Computation](https://www.pymc.io/projects/examples/en/latest/samplers/SMC-ABC_Lotka-Volterra_example.html)\n",
        "*   [DEMetropolis and DEMetropolis(Z) Algorithm Comparisons](https://www.pymc.io/projects/examples/en/latest/samplers/DEMetropolisZ_EfficiencyComparison.html)\n",
        "*   [Faster Sampling with JAX and Numba](https://www.pymc.io/projects/examples/en/latest/samplers/fast_sampling_with_jax_and_numba.html)\n",
        "*   [Sequential Monte Carlo](https://www.pymc.io/projects/examples/en/latest/samplers/SMC2_gaussians.html)\n",
        "*   [Using a custom step method for sampling from locally conjugate posterior distributions](https://www.pymc.io/projects/examples/en/latest/samplers/sampling_conjugate_step.html)\n",
        "*   [DEMetropolis(Z) Sampler Tuning](https://www.pymc.io/projects/examples/en/latest/samplers/DEMetropolisZ_tune_drop_fraction.html)\n",
        "*   [Compound Steps in Sampling](https://www.pymc.io/projects/examples/en/latest/samplers/sampling_compound_step.html)\n",
        "\n",
        "<table>\n",
        "  <tr>\n",
        "    <td><img src=\"https://www.pymc.io/projects/examples/en/latest/_images/2bc755fd8bf0a29be0c099502d53d2097de89708e8fd4c792426392f28773e1f.png\" width=\"200\"></td>\n",
        "    <td><img src=\"https://www.pymc.io/projects/examples/en/latest/_images/e316600cdc3e361ffb7eba1b50f58edd0f084ecab6f189ac07312b12e28a4d34.png\" width=\"200\"></td>\n",
        "    <td><img src=\"https://www.pymc.io/projects/examples/en/latest/_images/e62bdab660c1b9ab742837d51f9be561a20132b75396dda54455b5befd813180.png\" width=\"200\"></td>\n",
        "    <td><img src=\"https://www.pymc.io/projects/examples/en/latest/_images/a6200c084641fcdbddb8dcd934b79899a09357b22b12d743e338ae95127cf922.png\" width=\"200\"></td>\n",
        "  </tr>\n",
        "  <tr>\n",
        "    <td><img src=\"https://www.pymc.io/projects/examples/en/latest/_images/smc.png\" width=\"200\"></td>\n",
        "    <td><img src=\"https://www.pymc.io/projects/examples/en/latest/_images/aede7ed8b91855a9ffe4fdb579ab4658a52be9906f1364e0281e7af3831406de.png\" width=\"200\"></td>\n",
        "    <td><img src=\"https://www.pymc.io/projects/examples/en/latest/_images/eec242bf3dacee302758fa2d4ad380f6885552cd13ba559812c6548775aff0e7.png\" width=\"200\"></td>\n",
        "    <td><img src=\"https://www.pymc.io/projects/examples/en/latest/_images/9b99971997f8422f63937e165d22cba0112e93c0a391029d803ba6fd0fa75e52.png\" width=\"200\"></td>\n",
        "    <td></td> <!-- Empty cell for alignment -->\n",
        "  </tr>\n",
        "</table>\n"
      ],
      "metadata": {
        "id": "GQifwrWuxVIG"
      }
    },
    {
      "cell_type": "markdown",
      "source": [
        "# Variational Inference\n",
        "\n",
        "*   [Variational Inference: Bayesian Neural Networks](https://www.pymc.io/projects/examples/en/latest/variational_inference/bayesian_neural_network_advi.html)\n",
        "*   [Pathfinder Variational Inference](https://www.pymc.io/projects/examples/en/latest/variational_inference/pathfinder.html)\n",
        "*   [Empirical Approximation overview](https://www.pymc.io/projects/examples/en/latest/variational_inference/empirical-approx-overview.html)\n",
        "*   [Introduction to Variational Inference with PyMC](https://www.pymc.io/projects/examples/en/latest/variational_inference/variational_api_quickstart.html)\n",
        "*   [GLM: Mini-batch ADVI on hierarchical regression model](https://www.pymc.io/projects/examples/en/latest/variational_inference/GLM-hierarchical-advi-minibatch.html)\n",
        "\n",
        "\n",
        "\n",
        "\n",
        "\n",
        "\n",
        "\n",
        "<table>\n",
        "  <tr>\n",
        "    <td><img src=\"https://www.pymc.io/projects/examples/en/latest/_images/59ddf6dffee4b5bc2ff4043d14782f83e6da5062d1a0cf843dad8dc9359e30db.png\" width=\"200\"></td>\n",
        "    <td><img src=\"https://www.pymc.io/projects/examples/en/latest/_images/077012558f2fe2e6b21854e6182b00e824a0d3a00e6df1688d13d20081a76027.png\" width=\"200\"></td>\n",
        "    <td><img src=\"https://www.pymc.io/projects/examples/en/latest/_images/57f01d3caf90b26ed1a392be29a6d87a4c6a6fd537f9a2650ff983fce3f1acdb.png\" width=\"200\"></td>\n",
        "    <td><img src=\"https://www.pymc.io/projects/examples/en/latest/_images/60f5e24175b04b0973b5b3bda63ba890f1bf988ddd4a7047f56dcfa86cd02cdb.png\" width=\"200\"></td>\n",
        "    <td><img src=\"https://www.pymc.io/projects/examples/en/latest/_images/af9b90617fc072dcb41643f8d1228130d436ae7589248a7adcc8582793cf8ce3.png\" width=\"200\"></td>\n",
        "  </tr>\n",
        "</table>\n"
      ],
      "metadata": {
        "id": "Yd3f4FQ3yrF7"
      }
    },
    {
      "cell_type": "markdown",
      "source": [
        "# Q2"
      ],
      "metadata": {
        "id": "dw698LW3zVs_"
      }
    }
  ]
}