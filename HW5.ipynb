{
  "nbformat": 4,
  "nbformat_minor": 0,
  "metadata": {
    "colab": {
      "provenance": [],
      "authorship_tag": "ABX9TyNZrKoGHWzNOEl0zFaoc5bw",
      "include_colab_link": true
    },
    "kernelspec": {
      "name": "python3",
      "display_name": "Python 3"
    },
    "language_info": {
      "name": "python"
    }
  },
  "cells": [
    {
      "cell_type": "markdown",
      "metadata": {
        "id": "view-in-github",
        "colab_type": "text"
      },
      "source": [
        "<a href=\"https://colab.research.google.com/github/Emmnmm/testing/blob/main/HW5.ipynb\" target=\"_parent\"><img src=\"https://colab.research.google.com/assets/colab-badge.svg\" alt=\"Open In Colab\"/></a>"
      ]
    },
    {
      "cell_type": "markdown",
      "source": [
        "# Q1"
      ],
      "metadata": {
        "id": "pZXOxFqC0CzR"
      }
    },
    {
      "cell_type": "markdown",
      "source": [
        "Introductory\n",
        "\n",
        "\n",
        "*   [General Overview](https://www.pymc.io/projects/docs/en/stable/learn/core_notebooks/pymc_overview.html#pymc-overview)\n",
        "*   [Simple Linear Regression](https://www.pymc.io/projects/docs/en/stable/learn/core_notebooks/GLM_linear.html#glm-linear)\n",
        "*   [General API quickstart](https://www.pymc.io/projects/examples/en/latest/introductory/api_quickstart.html)\n",
        "\n",
        "\n",
        "\n",
        "\n",
        "\n"
      ],
      "metadata": {
        "id": "7I5h6wGW0FYX"
      }
    },
    {
      "cell_type": "markdown",
      "source": [
        "<table>\n",
        "  <tr>\n",
        "    <td><img src=\"https://www.pymc.io/projects/docs/en/stable/_images/ac30f30b2297ec4f2bb798b4f28d2cbba2d0502dbaae4a5f78fdd5cccacda517.svg\" width=\"250\"></td>\n",
        "    <td><img src=\"https://www.pymc.io/projects/docs/en/stable/_images/a8276d1222c43c061dbfff6fa3ff3af15b86038fd7d1e204c429ae3714ea1a20.png\" width=\"250\"></td>\n",
        "    <td><img src=\"https://www.pymc.io/projects/examples/en/latest/_images/434538d8660bf2399ebf9df11cbd2b7cec62d8abafc588da625315074b628118.png\" width=\"250\"></td>\n",
        "  </tr>\n",
        "</table>\n",
        "\n",
        "\n",
        "---\n",
        "\n"
      ],
      "metadata": {
        "id": "r518a-HU_B-K"
      }
    },
    {
      "cell_type": "markdown",
      "source": [
        "# Library Fundamentals\n",
        "\n",
        "\n",
        "*   [Distribution Dimensionality](https://www.pymc.io/projects/docs/en/stable/learn/core_notebooks/dimensionality.html#dimensionality)\n",
        "*   [PyMC and PyTensor](https://www.pymc.io/projects/docs/en/stable/learn/core_notebooks/pymc_pytensor.html#pymc-pytensor)\n",
        "*   [Using Data Containers](https://www.pymc.io/projects/examples/en/latest/fundamentals/data_container.html)\n",
        "\n",
        "\n"
      ],
      "metadata": {
        "id": "w4KUYjr2DJf6"
      }
    },
    {
      "cell_type": "markdown",
      "source": [
        "<table>\n",
        "  <tr>\n",
        "    <td><img src=\"https://www.pymc.io/projects/docs/en/stable/_images/73352774c2286019a31b211a29ee527bace6cc46ab421aa3e4c3f572a6658da5.svg\" width=\"250\"></td>\n",
        "    <td><img src=\"https://raw.githubusercontent.com/pymc-devs/pytensor/main/doc/tutorial/apply.png\" width=\"250\"></td>\n",
        "    <td><img src=\"https://www.pymc.io/projects/examples/en/latest/_images/90f5f05f83d677cb540fc16bcf5962b15949b9cf531848fe6b20c02a7e271e24.svg\" width=\"250\"></td>\n",
        "  </tr>\n",
        "</table>\n"
      ],
      "metadata": {
        "id": "MKsGsJBUDts5"
      }
    },
    {
      "cell_type": "markdown",
      "source": [
        "# How to\n",
        "\n",
        "\n",
        "*   [Prior and Posterior Predictive Checks](https://www.pymc.io/projects/docs/en/stable/learn/core_notebooks/posterior_predictive.html#posterior-predictive)\n",
        "*   [Model comparison](https://www.pymc.io/projects/docs/en/stable/learn/core_notebooks/model_comparison.html#model-comparison)\n",
        "*   [Updating Priors](https://www.pymc.io/projects/examples/en/latest/howto/updating_priors.html)\n",
        "*   [Automatic marginalization of discrete variables](https://www.pymc.io/projects/examples/en/latest/howto/marginalizing-models.html)\n",
        "*   [How to debug a model](https://www.pymc.io/projects/examples/en/latest/howto/howto_debugging.html)\n",
        "*   [How to wrap a JAX function for use in PyMC](https://www.pymc.io/projects/examples/en/latest/howto/wrapping_jax_function.html)\n",
        "*   [Splines](https://www.pymc.io/projects/examples/en/latest/howto/spline.html)\n",
        "*   [Bayesian copula estimation: Describing correlated joint distributions](https://www.pymc.io/projects/examples/en/latest/howto/copula-estimation.html)\n",
        "*   [Using ModelBuilder class for deploying PyMC models](https://www.pymc.io/projects/examples/en/latest/howto/model_builder.html)\n",
        "*   [Using a “black box” likelihood function](https://www.pymc.io/projects/examples/en/latest/howto/blackbox_external_likelihood_numpy.html)\n",
        "*   [LKJ Cholesky Covariance Priors for Multivariate Normal Models](https://www.pymc.io/projects/examples/en/latest/howto/LKJ.html)\n",
        "*   [Bayesian Missing Data Imputation](https://www.pymc.io/projects/examples/en/latest/howto/Missing_Data_Imputation.html)\n",
        "*   [Profiling](https://www.pymc.io/projects/examples/en/latest/howto/profiling.html)\n",
        "\n",
        "\n",
        "\n",
        "\n",
        "\n",
        "\n",
        "\n"
      ],
      "metadata": {
        "id": "QIU1tjF5E0gL"
      }
    },
    {
      "cell_type": "markdown",
      "source": [
        "<table>\n",
        "  <tr>\n",
        "    <td><img src=\"https://www.pymc.io/projects/docs/en/stable/_images/fe93e1963079f236f472726d7e5a22241866b629391de65d433f6f3512ca6f01.png\" width=\"200\"></td>\n",
        "    <td><img src=\"https://www.pymc.io/projects/docs/en/stable/_images/270be4d73a90733f93abe34f7f15e76428600d61b57df128acb78d2096a7c058.png\" width=\"200\"></td>\n",
        "    <td><img src=\"https://www.pymc.io/projects/examples/en/latest/_images/5c91b2b45e4e07be744bd90c92793f4b064b85ea9e147b0eaf3b463e1735f34a.png\" width=\"200\"></td>\n",
        "    <td><img src=\"https://www.pymc.io/projects/examples/en/latest/_images/0c978eb783f497ca7486982f9328492c60fc79c2a374860311fb5ad040d9548c.png\" width=\"200\"></td>\n",
        "  </tr>\n",
        "  <tr>\n",
        "    <td><img src=\"https://www.pymc.io/projects/examples/en/latest/_images/cd8d49dd3519e25c0ec2d3ef30a0816fe9c3f7708d9eda15d157590da6ca27b5.svg\" width=\"200\"></td>\n",
        "    <td><img src=\"https://www.pymc.io/projects/examples/en/latest/_images/8db92b756eea453adc43232c1804b652adbb0c0cbad541338644a85ebdce8449.svg\" width=\"200\"></td>\n",
        "    <td><img src=\"https://www.pymc.io/projects/examples/en/latest/_images/2df4d96e3e01145c824fe7651739c54092673779294c4438a6b86c88b911df6d.png\" width=\"200\"></td>\n",
        "    <td><img src=\"https://www.pymc.io/projects/examples/en/latest/_images/copula_schematic.png\" width=\"200\"></td>\n",
        "  </tr>\n",
        "  <tr>\n",
        "    <td><img src=\"https://www.pymc.io/projects/examples/en/latest/_images/bbc4da85106ec9c236813f170272c9b249e0a8af0911c428cddbf54bb0752c74.png\" width=\"200\"></td>\n",
        "    <td><img src=\"https://www.pymc.io/projects/examples/en/latest/_images/fdd28a1916ae67d48dfdba79887820769019342b1dd6cadb5db34711fe6c4bd9.png\" width=\"200\"></td>\n",
        "    <td><img src=\"https://www.pymc.io/projects/examples/en/latest/_images/0f00b23290a12d0321899f684b6108ccac834c6a555112ed39cf7beb7ba88ffa.png\" width=\"200\"></td>\n",
        "    <td><img src=\"https://www.pymc.io/projects/examples/en/latest/_images/4651aee3b14cc8fcb4f416403736e3ecb5f7f8ce1171367a38f6c44a02888f86.png\" width=\"200\"></td>\n",
        "  </tr>\n",
        "</table>\n"
      ],
      "metadata": {
        "id": "NojpNeiCHIT9"
      }
    }
  ]
}