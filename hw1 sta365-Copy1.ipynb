{
 "cells": [
  {
   "cell_type": "markdown",
   "id": "460b2c0a",
   "metadata": {},
   "source": [
    "# <center>Homework 1"
   ]
  },
  {
   "cell_type": "markdown",
   "id": "e354e512",
   "metadata": {},
   "source": [
    "##  <center>Question 1 \n",
    "What proportion of students who answer this question quickly will pass the class? Assume the probability of passing the class is 0.9. Assume the probability of answering this question quickly is  if you'll pass the class, while the probability drops to 0.3 if you won't pass the class.<br><br>\n"
   ]
  },
  {
   "cell_type": "markdown",
   "id": "d193a771",
   "metadata": {},
   "source": [
    "Answer: <br> \n",
    " <center>$ P(Pass) = 0.9 $ <br> $P(Quick \\mid Pass) = 0.6 $<br> $( P(Quick \\mid NotPass) = 0.3 $)<br>"
   ]
  },
  {
   "cell_type": "markdown",
   "id": "bf150c3a",
   "metadata": {},
   "source": [
    "The proportion of students who will pass the class given that they answer the question quickly => $P(Pass \\mid Quick)$<br>"
   ]
  },
  {
   "cell_type": "markdown",
   "id": "3133f341",
   "metadata": {},
   "source": [
    "$ P(Quick) $ = $P(Quick \\mid Pass) $ $\\times$ $ P(Pass) $ + $P(Quick \\mid NotPass) $ $\\times$ $ P(NotPass) $\n",
    "= 0.6 $\\times$ 0.9+0.3 $\\times$ 0.1 =0.57<br>"
   ]
  },
  {
   "cell_type": "markdown",
   "id": "6de5d5bb",
   "metadata": {},
   "source": [
    "$P(Pass \\mid Quick)$ = $P(Quick \\mid Pass) $ $\\times$ $P(Pass)$ / $ P(Quick) $ = 0.6 $\\times$ 0.9 / 0.57 = 0.9474 <br>\n"
   ]
  },
  {
   "cell_type": "markdown",
   "id": "d4929062",
   "metadata": {},
   "source": [
    "Around 94.74 % of the students who answer this question quickly will pass the class "
   ]
  }
 ],
 "metadata": {
  "kernelspec": {
   "display_name": "Python 3 (ipykernel)",
   "language": "python",
   "name": "python3"
  },
  "language_info": {
   "codemirror_mode": {
    "name": "ipython",
    "version": 3
   },
   "file_extension": ".py",
   "mimetype": "text/x-python",
   "name": "python",
   "nbconvert_exporter": "python",
   "pygments_lexer": "ipython3",
   "version": "3.11.6"
  }
 },
 "nbformat": 4,
 "nbformat_minor": 5
}
